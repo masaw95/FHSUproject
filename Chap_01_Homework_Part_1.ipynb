{
  "cells": [
    {
      "cell_type": "markdown",
      "metadata": {
        "id": "frN46YRK_EwJ"
      },
      "source": [
        "# <font color ='545aa7'> Chapter 1: Basic Python Homework #1</font>\n",
        "\n",
        "From **Scientific Computing for Chemists** by Charles Weiss. The document is copyright © 2021 Charles J. Weiss and is released under under the [CC BY-NC-SA 4.0](https://creativecommons.org/licenses/by-nc-sa/4.0/) license."
      ]
    },
    {
      "cell_type": "markdown",
      "metadata": {
        "id": "6JHNontB_Eyb"
      },
      "source": [
        "# Homework Problems"
      ]
    },
    {
      "cell_type": "markdown",
      "metadata": {
        "id": "GV8CVr1J_Eyb"
      },
      "source": [
        "1. A 1.6285 L (V) flask contains 1.220 moles (n) of ideal gas at 273.0 K (T). Remember that PV = nRT and R is 0.08206 L·atm/mol·K. Calculate the pressure (P) for the above system by assigning all values to variables (e.g., V, n, R, and T) and performing the mathematical operations on the variables."
      ]
    },
    {
      "cell_type": "code",
      "execution_count": null,
      "metadata": {
        "id": "hC7XkpEz_Eyc"
      },
      "outputs": [],
      "source": [
        ""
      ]
    },
    {
      "cell_type": "markdown",
      "metadata": {
        "id": "ebfklX1f_Eyc"
      },
      "source": [
        "2. Calculate the distance between point A (23, 81) and point B (-3, -5) on an *xy*-plane first using the `math.hypot()` function and then by the following distance equation.\n",
        "\n",
        "$$ \\sqrt{(\\Delta x)^2 + (\\Delta y)^2)} $$"
      ]
    },
    {
      "cell_type": "code",
      "execution_count": null,
      "metadata": {
        "id": "ztFT7l-B_Eyd"
      },
      "outputs": [],
      "source": [
        ""
      ]
    },
    {
      "cell_type": "markdown",
      "metadata": {
        "id": "TP3lafyv_Eyd"
      },
      "source": [
        "3. Assign x = 12 and then increase the value by 32 without typing “x = 32”. "
      ]
    },
    {
      "cell_type": "code",
      "execution_count": null,
      "metadata": {
        "id": "JK9cUrE9_Eye"
      },
      "outputs": [],
      "source": [
        ""
      ]
    },
    {
      "cell_type": "markdown",
      "metadata": {
        "id": "YFLgcHuF_Eye"
      },
      "source": [
        "4. Solve the quadratic equation using the quadratic formula below for a = 1, b = 2, and c = 1.\n",
        "\n",
        "$$ x = \\frac{-b \\pm \\sqrt{b^2 - 4ac}}{2a}  $$"
      ]
    },
    {
      "cell_type": "code",
      "execution_count": null,
      "metadata": {
        "id": "c8Z2tNhH_Eyf"
      },
      "outputs": [],
      "source": [
        ""
      ]
    },
    {
      "cell_type": "markdown",
      "metadata": {
        "id": "F1r18tCg_Eyf"
      },
      "source": [
        "5. Create the following variable elements = 'NaKBrClNOUP' and slice it to obtain the following strings. \n",
        "\n",
        "a. NaK\n",
        "\n",
        "b. UP\n",
        "\n",
        "c. KBr\n",
        "\n",
        "d. NKrlOP\n"
      ]
    },
    {
      "cell_type": "code",
      "execution_count": null,
      "metadata": {
        "id": "4r8-IwZi_Eyg"
      },
      "outputs": [],
      "source": [
        "elements = 'NaKBrClNOUP'"
      ]
    },
    {
      "cell_type": "code",
      "execution_count": null,
      "metadata": {
        "id": "2lyfcbsm_Eyg"
      },
      "outputs": [],
      "source": [
        ""
      ]
    },
    {
      "cell_type": "markdown",
      "metadata": {
        "id": "g2_gIYT__Eyg"
      },
      "source": [
        "6. A single bond is comprised of a sigma bond while a double bond includes a sigma plus a pi bond. The following strings contain the bond energies (kJ/mol) for a typical C-C single bond and C=C double bond. Perform a mathematical operation on CC_single and CC_double to estimate how much energy a pi bond contributes to a C=C double bond.\n",
        "           CC_single = \"345\"\n",
        "           CC_double = \"611\""
      ]
    },
    {
      "cell_type": "code",
      "execution_count": null,
      "metadata": {
        "id": "PB3-E6a3_Eyg"
      },
      "outputs": [],
      "source": [
        "CC_single = \"345\"\n",
        "CC_double = \"611\""
      ]
    },
    {
      "cell_type": "code",
      "execution_count": null,
      "metadata": {
        "id": "yNQaRdor_Eyh"
      },
      "outputs": [],
      "source": [
        ""
      ]
    },
    {
      "cell_type": "markdown",
      "metadata": {
        "id": "sh27qNj-_Eyh"
      },
      "source": [
        "7. Removing file extensions\n",
        "\n",
        "a) Write a Python script that takes the name of a PNG image (i.e., name always ends in “.png”) and removes the “.png” file extension using a string method.\n",
        "         \n",
        "b) Write a Python script that removes the file extension from a file name using slicing. You may assume that the file extensions will always be three letters long with a period (e.g., .png, .pdf, .txt, etc…)."
      ]
    },
    {
      "cell_type": "markdown",
      "metadata": {
        "id": "cnTFAGA9_Eyh"
      },
      "source": [
        "## Boolearn Logic"
      ]
    },
    {
      "cell_type": "markdown",
      "metadata": {
        "id": "ZlrThXtx_Eyh"
      },
      "source": [
        "8. For `DNA = 'ATTCGCCGCTTA'`, use Boolean logic to show that the DNA sequence is a palindrome (same forwards and backwards). Hint: this will require a Boolean logic operator to evaluate as True."
      ]
    },
    {
      "cell_type": "code",
      "execution_count": null,
      "metadata": {
        "id": "kHBU3Fgr_Eyh"
      },
      "outputs": [],
      "source": [
        "DNA = 'ATTCGCCGCTTA'"
      ]
    },
    {
      "cell_type": "code",
      "execution_count": null,
      "metadata": {
        "id": "LEUHm_mR_Eyh"
      },
      "outputs": [],
      "source": [
        ""
      ]
    },
    {
      "cell_type": "markdown",
      "metadata": {
        "id": "s7LR88qj_Eyi"
      },
      "source": [
        "9. The following are the atomic numbers of lithium, carbon, and sodium. Assign each to a variable and use Python to evaluate each of the following.\n",
        "\n",
        "Li = 3, C = 6, and Na = 11\n",
        "\n",
        "         a) Is Li greater than C?\n",
        "         b) Is Na less than or equal to C?\n",
        "         c) Is either Li or Na greater than C?\n",
        "         d) Are both C and Na greater than Li?"
      ]
    },
    {
      "cell_type": "code",
      "execution_count": null,
      "metadata": {
        "id": "g0wv7LvS_Eyi"
      },
      "outputs": [],
      "source": [
        "Li = 3\n",
        "C = 6\n",
        "Na = 11"
      ]
    },
    {
      "cell_type": "code",
      "execution_count": null,
      "metadata": {
        "id": "wuODzKI4_Eyi"
      },
      "outputs": [],
      "source": [
        ""
      ]
    },
    {
      "cell_type": "markdown",
      "metadata": {
        "id": "doGl_u9Y_Eyi"
      },
      "source": [
        "10. Write a Python script that can take in any of the following molecular formulas as a string and print out whether the compound is an acidic, basic, or neutral compound when dissolved in water. The script should not contain pre-sorted lists of compound but rather determine the class of molecule base on the formula. Hint: first look for patterns in the acid and base formulas in the following collection.\n",
        "\n",
        "|      |      |     |        |        |     |\n",
        "|------|------|-----|-------|--------|------|\n",
        "| HCl  | NaOH | KCl | H2SO4 | Ca(OH)2 | KOH |\n",
        "| HNO3  | Na2SO4 | KNO3 | Mg(OH)2 | HCO2H | NaBr |"
      ]
    },
    {
      "cell_type": "code",
      "execution_count": null,
      "metadata": {
        "id": "yd1ir_OY_Eyj"
      },
      "outputs": [],
      "source": [
        ""
      ]
    },
    {
      "cell_type": "markdown",
      "metadata": {
        "id": "lnnANMvd_Eyj"
      },
      "source": [
        "11. Write a Python script that takes in the number of electrons and protons and determines if a compound is cationic, anionic, or neutral."
      ]
    },
    {
      "cell_type": "code",
      "execution_count": null,
      "metadata": {
        "id": "mhBiSFXk_Eyj"
      },
      "outputs": [],
      "source": [
        ""
      ]
    },
    {
      "cell_type": "markdown",
      "metadata": {
        "id": "oA8LNzEW_Eyk"
      },
      "source": [
        "12. Create a list of even numbers from 18 → 88 including 88. Using list methods, perform the following transformations in order on the same list:\n",
        "\n",
        "a) Reverse the list\n",
        "\n",
        "b) Remove the last value (i.e., 18)\n",
        "\n",
        "c) Append 16"
      ]
    },
    {
      "cell_type": "code",
      "source": [
        ""
      ],
      "metadata": {
        "id": "Cdtaah_0Bfiw"
      },
      "execution_count": null,
      "outputs": []
    },
    {
      "cell_type": "code",
      "execution_count": null,
      "metadata": {
        "id": "bKpcoRqL_Eyk"
      },
      "outputs": [],
      "source": [
        ""
      ]
    },
    {
      "cell_type": "markdown",
      "metadata": {
        "id": "7MIYK3Qz_Eyk"
      },
      "source": [
        "13. In a Jupyter notebook:\n",
        "         \n",
        "a) Create a tuple of even numbers from 18 → 320 including 320. \n",
        "\n",
        "b) Can you reverse, remove, or append values to the tuple?"
      ]
    },
    {
      "cell_type": "code",
      "execution_count": null,
      "metadata": {
        "id": "V_FncdU2_Eyk"
      },
      "outputs": [],
      "source": [
        ""
      ]
    },
    {
      "cell_type": "markdown",
      "metadata": {
        "id": "Ej2ePuW5_Eyk"
      },
      "source": [
        "14. The following code generates a random list of integers from 0 $\\rightarrow$ 20 (chapter 2 will cover this in more detail). Run the code and test to see if 7 is in the list. Describe what `random.randint` does. Hint: section 1.4.5 from **Scientific Computing for Chemists**, by Charles Weiss, may be helpful.\n",
        "\n",
        "    ~~~python\n",
        "    import random\n",
        "    nums = [random.randint(0,20) for x in range(10)]\n",
        "    ~~~"
      ]
    },
    {
      "cell_type": "code",
      "execution_count": null,
      "metadata": {
        "id": "Mb62tTHt_Eyl"
      },
      "outputs": [],
      "source": [
        ""
      ]
    },
    {
      "cell_type": "markdown",
      "metadata": {
        "id": "gfxNor1k_Eyl"
      },
      "source": [
        "15. Write a sentence (string) attached to a variable. \n",
        "\n",
        "a) Convert all letters to lowercase and split the sentence into individual words using the split() string method. This will generate a list of words. \n",
        "\n",
        "b) Modify the list (i.e., the list itself changes) so that the words are in alphabetical order. Hint: use list and string methods."
      ]
    },
    {
      "cell_type": "code",
      "execution_count": null,
      "metadata": {
        "id": "UIVWTBdv_Eyl"
      },
      "outputs": [],
      "source": [
        ""
      ]
    },
    {
      "cell_type": "markdown",
      "metadata": {
        "id": "QkuzMf9c_Eyl"
      },
      "source": [
        "## Loops"
      ]
    },
    {
      "cell_type": "markdown",
      "metadata": {
        "id": "jKFDS8VK_Eym"
      },
      "source": [
        "16. Using a for loop, iterate over a range object and append 2× each value into a list called double."
      ]
    },
    {
      "cell_type": "code",
      "execution_count": null,
      "metadata": {
        "id": "-6J12Jm8_Eym"
      },
      "outputs": [],
      "source": [
        ""
      ]
    },
    {
      "cell_type": "markdown",
      "metadata": {
        "id": "Xfzf6G0j_Eym"
      },
      "source": [
        "17. Write a Python script that prints out “PV = nRT” twenty times."
      ]
    },
    {
      "cell_type": "code",
      "execution_count": null,
      "metadata": {
        "id": "sM8OseFj_Eyn"
      },
      "outputs": [],
      "source": [
        ""
      ]
    },
    {
      "cell_type": "markdown",
      "metadata": {
        "id": "Ig1Ly2EE_Eyn"
      },
      "source": [
        "18. Write a script that generates the following output without typing it yourself. Be sure to include unit labels.\n",
        "\n",
        "`1000 g`\n",
        "\n",
        "`500.0 g`\n",
        "\n",
        "`250.0 g`\n",
        "\n",
        "`125.0 g`\n",
        "\n",
        "`62.5 g`\n",
        "\n",
        "`31.25 g`"
      ]
    },
    {
      "cell_type": "code",
      "execution_count": null,
      "metadata": {
        "id": "p2QOBCxk_Eyn"
      },
      "outputs": [],
      "source": [
        ""
      ]
    },
    {
      "cell_type": "markdown",
      "metadata": {
        "id": "n1V9ChZE_Eyo"
      },
      "source": [
        "19. The isotope $^{137}Cs$ has a half-life about 30.2 years. Using a `while` loop, determine how many half-lives until a 500.0 g sample would have to decay until there is less that 10.00 grams left. Create a counter (`counter = 0`) and add 1 to it each cycle of the `while` loop to keep count."
      ]
    },
    {
      "cell_type": "code",
      "execution_count": null,
      "metadata": {
        "id": "B86TF1MC_Eyo"
      },
      "outputs": [],
      "source": [
        ""
      ]
    },
    {
      "cell_type": "markdown",
      "metadata": {
        "id": "vL_h3xst_Eyr"
      },
      "source": [
        "20. What is a faulty termination condition and what is one safeguard agains them?… aside from not using `while` loops."
      ]
    },
    {
      "cell_type": "code",
      "execution_count": null,
      "metadata": {
        "id": "u-iFiUnA_Eyr"
      },
      "outputs": [],
      "source": [
        ""
      ]
    },
    {
      "cell_type": "markdown",
      "metadata": {
        "id": "Ga5yGgd0_Eyv"
      },
      "source": [
        "## Functions"
      ]
    },
    {
      "cell_type": "markdown",
      "metadata": {
        "id": "bjGJjyeR_Eyv"
      },
      "source": [
        "23. Write and test a function, complete with docstring, that solves the Ideal Gas Law for pressure when provided with volume, temperature, and moles of gas (R = 0.08206 L·atm/mol·K) with the following stipulations.       \n",
        "\n",
        "a) Create one version of the function that takes only positional arguments.\n",
        "\n",
        "b) Create a second copy of the function that takes only keyword arguments. Try testing this function with positional arguments. Does it still work?"
      ]
    },
    {
      "cell_type": "code",
      "execution_count": null,
      "metadata": {
        "id": "f3nPlXS-_Eyw"
      },
      "outputs": [],
      "source": [
        ""
      ]
    },
    {
      "cell_type": "markdown",
      "metadata": {
        "id": "wFfJ_4cH_Eyw"
      },
      "source": [
        "24. Complete a function started below that calculates the rate of a single-step chemical reaction nA → P using the differential rate law (Rate = k[A]n).\n",
        "\n",
        "~~~python\n",
        "       def rate(A0, k=1.0, n=1):\n",
        "            ''' (concentration(M), k = 1.0, n = 1) → rate (M/s)\n",
        "            Takes in the concentration of A (M), the rate constant (k), and the order (n) \n",
        "            and returns the rate (M/s)\n",
        "             '''   \n",
        "~~~"
      ]
    },
    {
      "cell_type": "code",
      "execution_count": null,
      "metadata": {
        "id": "ai_SEhbk_Eyx"
      },
      "outputs": [],
      "source": [
        ""
      ]
    },
    {
      "cell_type": "markdown",
      "metadata": {
        "id": "1JGbCXei_Eyx"
      },
      "source": [
        "25. DNA is composed of two strands of the nucleotides adenine (A), thymine (T), guanine (G), and cytosine (C). The two strands are lined up with adenine always opposite of thymine and guanine opposite cytosine. For example, if one strand is ATGGC, then the opposite strand is TACCG. Write a function that takes in a DNA strand as a string and prints the opposite DNA strand of nucleotides."
      ]
    },
    {
      "cell_type": "code",
      "execution_count": null,
      "metadata": {
        "id": "6C5WUiEV_Eyx"
      },
      "outputs": [],
      "source": [
        ""
      ]
    }
  ],
  "metadata": {
    "kernelspec": {
      "display_name": "Python 3",
      "language": "python",
      "name": "python3"
    },
    "language_info": {
      "codemirror_mode": {
        "name": "ipython",
        "version": 3
      },
      "file_extension": ".py",
      "mimetype": "text/x-python",
      "name": "python",
      "nbconvert_exporter": "python",
      "pygments_lexer": "ipython3",
      "version": "3.8.5"
    },
    "colab": {
      "name": "Chap_01_Homework_Part_1.ipynb",
      "provenance": [],
      "collapsed_sections": []
    }
  },
  "nbformat": 4,
  "nbformat_minor": 0
}